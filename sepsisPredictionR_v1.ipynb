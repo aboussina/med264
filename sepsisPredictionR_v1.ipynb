{
 "cells": [
  {
   "cell_type": "markdown",
   "metadata": {},
   "source": [
    "## Initial steps\n",
    "1. File -> New -> Terminal\n",
    "2. In the terminal, type following commands\n",
    "        mkdir med264/\n",
    "        cd med264/\n",
    "        wget https://archive.physionet.org/users/shared/challenge-2019/training_setB.zip\n",
    "        unzip training_setB.zip"
   ]
  },
  {
   "cell_type": "markdown",
   "metadata": {},
   "source": [
    "## Install & Load Dependencies"
   ]
  },
  {
   "cell_type": "code",
   "execution_count": 1,
   "metadata": {
    "scrolled": false
   },
   "outputs": [
    {
     "name": "stderr",
     "output_type": "stream",
     "text": [
      "Installing package into ‘/home/aaron/R/x86_64-pc-linux-gnu-library/3.6’\n",
      "(as ‘lib’ is unspecified)\n",
      "\n",
      "── \u001b[1mAttaching packages\u001b[22m ─────────────────────────────────────── tidyverse 1.3.1 ──\n",
      "\n",
      "\u001b[32m✔\u001b[39m \u001b[34mggplot2\u001b[39m 3.3.3     \u001b[32m✔\u001b[39m \u001b[34mpurrr  \u001b[39m 0.3.4\n",
      "\u001b[32m✔\u001b[39m \u001b[34mtibble \u001b[39m 3.1.1     \u001b[32m✔\u001b[39m \u001b[34mdplyr  \u001b[39m 1.0.5\n",
      "\u001b[32m✔\u001b[39m \u001b[34mtidyr  \u001b[39m 1.1.3     \u001b[32m✔\u001b[39m \u001b[34mstringr\u001b[39m 1.4.0\n",
      "\u001b[32m✔\u001b[39m \u001b[34mreadr  \u001b[39m 1.4.0     \u001b[32m✔\u001b[39m \u001b[34mforcats\u001b[39m 0.5.1\n",
      "\n",
      "── \u001b[1mConflicts\u001b[22m ────────────────────────────────────────── tidyverse_conflicts() ──\n",
      "\u001b[31m✖\u001b[39m \u001b[34mdplyr\u001b[39m::\u001b[32mfilter()\u001b[39m masks \u001b[34mstats\u001b[39m::filter()\n",
      "\u001b[31m✖\u001b[39m \u001b[34mdplyr\u001b[39m::\u001b[32mlag()\u001b[39m    masks \u001b[34mstats\u001b[39m::lag()\n",
      "\n",
      "Installing package into ‘/home/aaron/R/x86_64-pc-linux-gnu-library/3.6’\n",
      "(as ‘lib’ is unspecified)\n",
      "\n",
      "── \u001b[1mAttaching packages\u001b[22m ────────────────────────────────────── tidymodels 0.1.3 ──\n",
      "\n",
      "\u001b[32m✔\u001b[39m \u001b[34mbroom       \u001b[39m 0.7.6      \u001b[32m✔\u001b[39m \u001b[34mrsample     \u001b[39m 0.0.9 \n",
      "\u001b[32m✔\u001b[39m \u001b[34mdials       \u001b[39m 0.0.9      \u001b[32m✔\u001b[39m \u001b[34mtune        \u001b[39m 0.1.5 \n",
      "\u001b[32m✔\u001b[39m \u001b[34minfer       \u001b[39m 0.5.4      \u001b[32m✔\u001b[39m \u001b[34mworkflows   \u001b[39m 0.2.2 \n",
      "\u001b[32m✔\u001b[39m \u001b[34mmodeldata   \u001b[39m 0.1.0      \u001b[32m✔\u001b[39m \u001b[34mworkflowsets\u001b[39m 0.0.2 \n",
      "\u001b[32m✔\u001b[39m \u001b[34mparsnip     \u001b[39m 0.1.5      \u001b[32m✔\u001b[39m \u001b[34myardstick   \u001b[39m 0.0.8 \n",
      "\u001b[32m✔\u001b[39m \u001b[34mrecipes     \u001b[39m 0.1.16     \n",
      "\n",
      "── \u001b[1mConflicts\u001b[22m ───────────────────────────────────────── tidymodels_conflicts() ──\n",
      "\u001b[31m✖\u001b[39m \u001b[34mscales\u001b[39m::\u001b[32mdiscard()\u001b[39m masks \u001b[34mpurrr\u001b[39m::discard()\n",
      "\u001b[31m✖\u001b[39m \u001b[34mdplyr\u001b[39m::\u001b[32mfilter()\u001b[39m   masks \u001b[34mstats\u001b[39m::filter()\n",
      "\u001b[31m✖\u001b[39m \u001b[34mrecipes\u001b[39m::\u001b[32mfixed()\u001b[39m  masks \u001b[34mstringr\u001b[39m::fixed()\n",
      "\u001b[31m✖\u001b[39m \u001b[34mdplyr\u001b[39m::\u001b[32mlag()\u001b[39m      masks \u001b[34mstats\u001b[39m::lag()\n",
      "\u001b[31m✖\u001b[39m \u001b[34myardstick\u001b[39m::\u001b[32mspec()\u001b[39m masks \u001b[34mreadr\u001b[39m::spec()\n",
      "\u001b[31m✖\u001b[39m \u001b[34mrecipes\u001b[39m::\u001b[32mstep()\u001b[39m   masks \u001b[34mstats\u001b[39m::step()\n",
      "\u001b[34m•\u001b[39m Use \u001b[32mtidymodels_prefer()\u001b[39m to resolve common conflicts.\n",
      "\n"
     ]
    }
   ],
   "source": [
    "dependencies  <- c(\"tidyverse\", \"tidymodels\")\n",
    "\n",
    "for (package in dependencies) {\n",
    "    if (!(package %in% installed.packages()['Package'])) {\n",
    "        install.packages(package)\n",
    "    }\n",
    "    \n",
    "    library(package, character.only = TRUE)\n",
    "}\n",
    "\n"
   ]
  },
  {
   "cell_type": "markdown",
   "metadata": {},
   "source": [
    "## Data processing\n",
    "1. Load the list of files in the input directory\n",
    "2. Split the records to training and testing set\n",
    "3. Convert the data into a numpy array"
   ]
  },
  {
   "cell_type": "code",
   "execution_count": 2,
   "metadata": {},
   "outputs": [],
   "source": [
    "# Name of the input directory\n",
    "input_directory = 'training_setB'\n",
    "\n",
    "# Read all PSV files in the input directory and convert to a tibble\n",
    "all_data  <- list.files(path = input_directory, full.names = TRUE) %>% \n",
    "    .[grepl(\".psv\", .)] %>%\n",
    "    map(., read_delim, delim = \"|\", col_types = cols()) %>% \n",
    "    bind_rows() %>% \n",
    "    mutate(ID = row_number())\n",
    "\n",
    "# Split the data into training and testing set\n",
    "# 80% of data -> Training\n",
    "# 20% of data -> Testing\n",
    "\n",
    "train_all  <- slice_sample(all_data, prop = 0.8)\n",
    "\n",
    "test_all  <- all_data %>%\n",
    "    anti_join(train_all, by=\"ID\")\n",
    "\n",
    "train_labels  <- train_all[\"SepsisLabel\"]\n",
    "test_labels  <- test_all[\"SepsisLabel\"]\n",
    "\n",
    "train_data <- select(train_all, -c(\"SepsisLabel\", \"ID\"))\n",
    "test_data <- select(test_all, -c(\"SepsisLabel\", \"ID\"))"
   ]
  },
  {
   "cell_type": "markdown",
   "metadata": {},
   "source": [
    "## Standardization of data\n",
    "1. Compute the mean and standard deviation of ONLY training set\n",
    "2. Use the statistics computed to standardize Training and Testing sets"
   ]
  },
  {
   "cell_type": "code",
   "execution_count": 3,
   "metadata": {},
   "outputs": [],
   "source": [
    "x_mean  <- colMeans(train_data, na.rm = TRUE)\n",
    "x_sd  <- apply(train_data, 2, sd, na.rm = TRUE)\n",
    "\n",
    "# For NaN entries, replace with 0\n",
    "# For the remaining entries, standardize with mean and std\n",
    "train_data <- sweep(train_data, 2, x_mean, \"-\") %>%\n",
    "    sweep(., 2, x_sd, \"/\")  %>%\n",
    "    `[<-`(., is.na(.), value = 0)\n",
    "\n",
    "test_data <- sweep(test_data, 2, x_mean, \"-\") %>%\n",
    "    sweep(., 2, x_sd, \"/\") %>% \n",
    "    `[<-`(., is.na(.), value = 0)\n",
    "    "
   ]
  },
  {
   "cell_type": "markdown",
   "metadata": {},
   "source": [
    "## Model training\n",
    "1. We will use a simple logistic regression model to model the data\n",
    "\n",
    "### Exercise 1\n",
    "1. Use a different penalty for Logistic Regression (LR) and plot the AUC curves\n",
    "2. Use a Support Vector Machine classifier instead of LR and plot the AUC curves\n",
    "3. Use a Random Forest Classifier instead of LR and plot the AUC curves \n",
    "\n",
    "        https://cran.r-project.org/web/packages/caret/caret.pdf"
   ]
  },
  {
   "cell_type": "code",
   "execution_count": 5,
   "metadata": {},
   "outputs": [
    {
     "data": {
      "text/html": [
       "<style>\n",
       ".dl-inline {width: auto; margin:0; padding: 0}\n",
       ".dl-inline>dt, .dl-inline>dd {float: none; width: auto; display: inline-block}\n",
       ".dl-inline>dt::after {content: \":\\0020\"; padding-right: .5ex}\n",
       ".dl-inline>dt:not(:first-of-type) {padding-left: .5ex}\n",
       "</style><dl class=dl-inline><dt>HR</dt><dd>-0.000427307680606408</dd><dt>O2Sat</dt><dd>-0.000505563497419171</dd><dt>Temp</dt><dd>-0.000524232586329296</dd><dt>SBP</dt><dd>0.00042952416822698</dd><dt>MAP</dt><dd>0.0015602195058224</dd><dt>DBP</dt><dd>0.0027242240149535</dd><dt>Resp</dt><dd>-0.00169166415812258</dd><dt>EtCO2</dt><dd>-0.000643999192528515</dd><dt>BaseExcess</dt><dd>-0.000184708812759399</dd><dt>HCO3</dt><dd>-0.00014633650432651</dd><dt>FiO2</dt><dd>-0.000199701950567455</dd><dt>pH</dt><dd>0.00113444039841438</dd><dt>PaCO2</dt><dd>-0.000507834010050791</dd><dt>SaO2</dt><dd>0.000219393198986219</dd><dt>AST</dt><dd>-0.000244269029571808</dd><dt>BUN</dt><dd>-0.00014754580090687</dd><dt>Alkalinephos</dt><dd>0.000318820910237342</dd><dt>Calcium</dt><dd>-0.000956465415481704</dd><dt>Chloride</dt><dd>4.8067656279695e-06</dd><dt>Creatinine</dt><dd>0.000401107249832421</dd><dt>Bilirubin_direct</dt><dd>-2.90452878683324e-05</dd><dt>Glucose</dt><dd>-0.000568431313120369</dd><dt>Lactate</dt><dd>0.000114470786325939</dd><dt>Magnesium</dt><dd>-2.52843763702036e-05</dd><dt>Phosphate</dt><dd>-0.000251306174363702</dd><dt>Potassium</dt><dd>-0.000240556729586972</dd><dt>Bilirubin_total</dt><dd>0.000558933197499209</dd><dt>TroponinI</dt><dd>0.00035967448386334</dd><dt>Hct</dt><dd>-0.000164710232651132</dd><dt>Hgb</dt><dd>-0.000177649763432838</dd><dt>PTT</dt><dd>-0.00034605065112825</dd><dt>WBC</dt><dd>0.000307360509974516</dd><dt>Fibrinogen</dt><dd>0.000339909717495402</dd><dt>Platelets</dt><dd>-0.00159324733293356</dd><dt>Age</dt><dd>0.000916404368499237</dd><dt>Gender</dt><dd>-0.00129686985786575</dd><dt>Unit1</dt><dd>-0.000634654905551211</dd><dt>Unit2</dt><dd>0.000634654905551094</dd><dt>HospAdmTime</dt><dd>-0.000286092406609688</dd><dt>ICULOS</dt><dd>-0.00227412580097237</dd></dl>\n"
      ],
      "text/latex": [
       "\\begin{description*}\n",
       "\\item[HR] -0.000427307680606408\n",
       "\\item[O2Sat] -0.000505563497419171\n",
       "\\item[Temp] -0.000524232586329296\n",
       "\\item[SBP] 0.00042952416822698\n",
       "\\item[MAP] 0.0015602195058224\n",
       "\\item[DBP] 0.0027242240149535\n",
       "\\item[Resp] -0.00169166415812258\n",
       "\\item[EtCO2] -0.000643999192528515\n",
       "\\item[BaseExcess] -0.000184708812759399\n",
       "\\item[HCO3] -0.00014633650432651\n",
       "\\item[FiO2] -0.000199701950567455\n",
       "\\item[pH] 0.00113444039841438\n",
       "\\item[PaCO2] -0.000507834010050791\n",
       "\\item[SaO2] 0.000219393198986219\n",
       "\\item[AST] -0.000244269029571808\n",
       "\\item[BUN] -0.00014754580090687\n",
       "\\item[Alkalinephos] 0.000318820910237342\n",
       "\\item[Calcium] -0.000956465415481704\n",
       "\\item[Chloride] 4.8067656279695e-06\n",
       "\\item[Creatinine] 0.000401107249832421\n",
       "\\item[Bilirubin\\textbackslash{}\\_direct] -2.90452878683324e-05\n",
       "\\item[Glucose] -0.000568431313120369\n",
       "\\item[Lactate] 0.000114470786325939\n",
       "\\item[Magnesium] -2.52843763702036e-05\n",
       "\\item[Phosphate] -0.000251306174363702\n",
       "\\item[Potassium] -0.000240556729586972\n",
       "\\item[Bilirubin\\textbackslash{}\\_total] 0.000558933197499209\n",
       "\\item[TroponinI] 0.00035967448386334\n",
       "\\item[Hct] -0.000164710232651132\n",
       "\\item[Hgb] -0.000177649763432838\n",
       "\\item[PTT] -0.00034605065112825\n",
       "\\item[WBC] 0.000307360509974516\n",
       "\\item[Fibrinogen] 0.000339909717495402\n",
       "\\item[Platelets] -0.00159324733293356\n",
       "\\item[Age] 0.000916404368499237\n",
       "\\item[Gender] -0.00129686985786575\n",
       "\\item[Unit1] -0.000634654905551211\n",
       "\\item[Unit2] 0.000634654905551094\n",
       "\\item[HospAdmTime] -0.000286092406609688\n",
       "\\item[ICULOS] -0.00227412580097237\n",
       "\\end{description*}\n"
      ],
      "text/markdown": [
       "HR\n",
       ":   -0.000427307680606408O2Sat\n",
       ":   -0.000505563497419171Temp\n",
       ":   -0.000524232586329296SBP\n",
       ":   0.00042952416822698MAP\n",
       ":   0.0015602195058224DBP\n",
       ":   0.0027242240149535Resp\n",
       ":   -0.00169166415812258EtCO2\n",
       ":   -0.000643999192528515BaseExcess\n",
       ":   -0.000184708812759399HCO3\n",
       ":   -0.00014633650432651FiO2\n",
       ":   -0.000199701950567455pH\n",
       ":   0.00113444039841438PaCO2\n",
       ":   -0.000507834010050791SaO2\n",
       ":   0.000219393198986219AST\n",
       ":   -0.000244269029571808BUN\n",
       ":   -0.00014754580090687Alkalinephos\n",
       ":   0.000318820910237342Calcium\n",
       ":   -0.000956465415481704Chloride\n",
       ":   4.8067656279695e-06Creatinine\n",
       ":   0.000401107249832421Bilirubin_direct\n",
       ":   -2.90452878683324e-05Glucose\n",
       ":   -0.000568431313120369Lactate\n",
       ":   0.000114470786325939Magnesium\n",
       ":   -2.52843763702036e-05Phosphate\n",
       ":   -0.000251306174363702Potassium\n",
       ":   -0.000240556729586972Bilirubin_total\n",
       ":   0.000558933197499209TroponinI\n",
       ":   0.00035967448386334Hct\n",
       ":   -0.000164710232651132Hgb\n",
       ":   -0.000177649763432838PTT\n",
       ":   -0.00034605065112825WBC\n",
       ":   0.000307360509974516Fibrinogen\n",
       ":   0.000339909717495402Platelets\n",
       ":   -0.00159324733293356Age\n",
       ":   0.000916404368499237Gender\n",
       ":   -0.00129686985786575Unit1\n",
       ":   -0.000634654905551211Unit2\n",
       ":   0.000634654905551094HospAdmTime\n",
       ":   -0.000286092406609688ICULOS\n",
       ":   -0.00227412580097237\n",
       "\n"
      ],
      "text/plain": [
       "              HR            O2Sat             Temp              SBP \n",
       "   -4.273077e-04    -5.055635e-04    -5.242326e-04     4.295242e-04 \n",
       "             MAP              DBP             Resp            EtCO2 \n",
       "    1.560220e-03     2.724224e-03    -1.691664e-03    -6.439992e-04 \n",
       "      BaseExcess             HCO3             FiO2               pH \n",
       "   -1.847088e-04    -1.463365e-04    -1.997020e-04     1.134440e-03 \n",
       "           PaCO2             SaO2              AST              BUN \n",
       "   -5.078340e-04     2.193932e-04    -2.442690e-04    -1.475458e-04 \n",
       "    Alkalinephos          Calcium         Chloride       Creatinine \n",
       "    3.188209e-04    -9.564654e-04     4.806766e-06     4.011072e-04 \n",
       "Bilirubin_direct          Glucose          Lactate        Magnesium \n",
       "   -2.904529e-05    -5.684313e-04     1.144708e-04    -2.528438e-05 \n",
       "       Phosphate        Potassium  Bilirubin_total        TroponinI \n",
       "   -2.513062e-04    -2.405567e-04     5.589332e-04     3.596745e-04 \n",
       "             Hct              Hgb              PTT              WBC \n",
       "   -1.647102e-04    -1.776498e-04    -3.460507e-04     3.073605e-04 \n",
       "      Fibrinogen        Platelets              Age           Gender \n",
       "    3.399097e-04    -1.593247e-03     9.164044e-04    -1.296870e-03 \n",
       "           Unit1            Unit2      HospAdmTime           ICULOS \n",
       "   -6.346549e-04     6.346549e-04    -2.860924e-04    -2.274126e-03 "
      ]
     },
     "metadata": {},
     "output_type": "display_data"
    }
   ],
   "source": [
    "colMeans(test_data)"
   ]
  }
 ],
 "metadata": {
  "kernelspec": {
   "display_name": "R",
   "language": "R",
   "name": "ir"
  },
  "language_info": {
   "codemirror_mode": "r",
   "file_extension": ".r",
   "mimetype": "text/x-r-source",
   "name": "R",
   "pygments_lexer": "r",
   "version": "3.6.3"
  }
 },
 "nbformat": 4,
 "nbformat_minor": 4
}
